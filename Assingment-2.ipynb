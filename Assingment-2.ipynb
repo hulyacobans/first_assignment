{
 "cells": [
  {
   "cell_type": "code",
   "execution_count": 29,
   "metadata": {},
   "outputs": [
    {
     "name": "stdout",
     "output_type": "stream",
     "text": [
      "{'1': 'Pazartesi', '2': 'Salı', '3': 'Çarşamba', '4': 'Perşembe', '5': 'Cuma', '6': 'Cumartesi', '7': 'Pazar'}\n",
      "Lütfen silinmesini istediğiniz iki gün seçiniz: 46\n",
      "{'1': 'Pazartesi', '2': 'Salı', '3': 'Çarşamba', '5': 'Cuma', '7': 'Pazar'}\n"
     ]
    }
   ],
   "source": [
    "#ÖDEV1\n",
    "gunler = {\"1\": \"Pazartesi\",\n",
    "         \"2\": \"Salı\",\n",
    "         \"3\": \"Çarşamba\",\n",
    "         \"4\": \"Perşembe\",\n",
    "         \"5\": \"Cuma\",\n",
    "         \"6\": \"Cumartesi\",\n",
    "         \"7\": \"Pazar\"}\n",
    "print(gunler)\n",
    "gun1 = input(\"Lütfen silinmesini istediğiniz iki gün seçiniz: \")\n",
    "\n",
    "del gunler[gun1[0]]\n",
    "del gunler[gun1[1]]\n",
    "print(gunler)"
   ]
  },
  {
   "cell_type": "code",
   "execution_count": 28,
   "metadata": {},
   "outputs": [
    {
     "name": "stdout",
     "output_type": "stream",
     "text": [
      "{'31': ['ocak', 'mart', 'mayıs', 'temmuz', 'ağustos', 'ekim', 'aralık'], '30': ['nisan', 'haziran', 'eylül', 'kasım'], '28': ['şubat']}\n"
     ]
    }
   ],
   "source": [
    "#ÖDEV2\n",
    "otuzbir=['ocak', 'mart', 'mayıs', 'temmuz', 'ağustos', 'ekim', 'aralık']\n",
    "otuz=['nisan', 'haziran', 'eylül', 'kasım']\n",
    "yirmisekiz=['şubat']\n",
    "aylar={\"31\": otuzbir, \"30\": otuz, \"28\": yirmisekiz}\n",
    "print(aylar)"
   ]
  },
  {
   "cell_type": "code",
   "execution_count": 24,
   "metadata": {},
   "outputs": [],
   "source": [
    "#ÖDEV3\n"
   ]
  },
  {
   "cell_type": "code",
   "execution_count": 25,
   "metadata": {},
   "outputs": [
    {
     "name": "stdout",
     "output_type": "stream",
     "text": [
      "[['mart', 'nisan', 'mayıs'], ['haziran', 'temmuz', 'ağustos'], ['eylül', 'ekim', 'kasım'], ['aralık', 'ocak', 'şubat']]\n"
     ]
    }
   ],
   "source": [
    "#ÖDEV4\n",
    "ilkbahar=['mart', 'nisan', 'mayıs']\n",
    "yaz=['haziran', 'temmuz', 'ağustos']\n",
    "sonbahar=['eylül', 'ekim', 'kasım']\n",
    "kis=['aralık', 'ocak', 'şubat']\n",
    "mevsimler=[ilkbahar, yaz, sonbahar, kis]\n",
    "print(mevsimler)"
   ]
  },
  {
   "cell_type": "code",
   "execution_count": null,
   "metadata": {},
   "outputs": [],
   "source": []
  }
 ],
 "metadata": {
  "kernelspec": {
   "display_name": "Python 3",
   "language": "python",
   "name": "python3"
  },
  "language_info": {
   "codemirror_mode": {
    "name": "ipython",
    "version": 3
   },
   "file_extension": ".py",
   "mimetype": "text/x-python",
   "name": "python",
   "nbconvert_exporter": "python",
   "pygments_lexer": "ipython3",
   "version": "3.7.3"
  }
 },
 "nbformat": 4,
 "nbformat_minor": 2
}
